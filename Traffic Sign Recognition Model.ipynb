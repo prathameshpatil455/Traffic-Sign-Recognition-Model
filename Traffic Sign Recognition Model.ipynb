{
 "cells": [
  {
   "cell_type": "markdown",
   "id": "be2806b2",
   "metadata": {},
   "source": [
    "# Import required libraries"
   ]
  },
  {
   "cell_type": "code",
   "execution_count": 9,
   "id": "7784e691",
   "metadata": {},
   "outputs": [],
   "source": [
    "import numpy as np \n",
    "import pandas as pd \n",
    "import matplotlib.pyplot as plt\n",
    "import cv2\n",
    "import tensorflow as tf\n",
    "from PIL import Image\n",
    "import os\n",
    "os.chdir('C:/Users/sindh/archive')\n",
    "from sklearn.model_selection import train_test_split\n",
    "from keras.utils import to_categorical\n",
    "from keras.models import Sequential, load_model\n",
    "from keras.layers import Conv2D, MaxPool2D, Dense, Flatten, Dropout"
   ]
  },
  {
   "cell_type": "markdown",
   "id": "cf5e95a6",
   "metadata": {},
   "source": [
    "# Store data, labels in the list "
   ]
  },
  {
   "cell_type": "code",
   "execution_count": 10,
   "id": "6e112da7",
   "metadata": {},
   "outputs": [],
   "source": [
    "data = []\n",
    "labels = []\n",
    "# We have 43 Classes\n",
    "classes = 43\n",
    "cur_path = os.getcwd()"
   ]
  },
  {
   "cell_type": "code",
   "execution_count": 11,
   "id": "5e9052bd",
   "metadata": {},
   "outputs": [
    {
     "data": {
      "text/plain": [
       "'C:\\\\Users\\\\sindh\\\\archive'"
      ]
     },
     "execution_count": 11,
     "metadata": {},
     "output_type": "execute_result"
    }
   ],
   "source": [
    "cur_path"
   ]
  },
  {
   "cell_type": "markdown",
   "id": "b70945f4",
   "metadata": {},
   "source": [
    "# Preprocess the images"
   ]
  },
  {
   "cell_type": "code",
   "execution_count": 12,
   "id": "b46b3a12",
   "metadata": {},
   "outputs": [],
   "source": [
    "for i in range(classes):\n",
    "    path = os.path.join(cur_path,'train',str(i))\n",
    "    images = os.listdir(path)\n",
    "    for a in images:\n",
    "        try:\n",
    "            image = Image.open(path + '\\\\'+ a)\n",
    "            image = image.resize((30,30))\n",
    "            image = np.array(image)\n",
    "            data.append(image)\n",
    "            labels.append(i)\n",
    "        except Exception as e:\n",
    "            print(e)"
   ]
  },
  {
   "cell_type": "markdown",
   "id": "8b912543",
   "metadata": {},
   "source": [
    "# Converting lists into numpy arrays"
   ]
  },
  {
   "cell_type": "code",
   "execution_count": 13,
   "id": "5b82fe29",
   "metadata": {},
   "outputs": [],
   "source": [
    "data = np.array(data)\n",
    "labels = np.array(labels)"
   ]
  },
  {
   "cell_type": "markdown",
   "id": "c172247e",
   "metadata": {},
   "source": [
    "# Save Labels & Data for future use"
   ]
  },
  {
   "cell_type": "code",
   "execution_count": 14,
   "id": "47ae37c0",
   "metadata": {},
   "outputs": [],
   "source": [
    "np.save('./training/data',data)\n",
    "np.save('./training/target',labels)"
   ]
  },
  {
   "cell_type": "markdown",
   "id": "470df1b7",
   "metadata": {},
   "source": [
    "# Load data & Labels"
   ]
  },
  {
   "cell_type": "code",
   "execution_count": 15,
   "id": "4b4adb03",
   "metadata": {},
   "outputs": [],
   "source": [
    "data=np.load('./training/data.npy')\n",
    "labels=np.load('./training/target.npy')"
   ]
  },
  {
   "cell_type": "code",
   "execution_count": 16,
   "id": "2bfbf3ed",
   "metadata": {},
   "outputs": [
    {
     "name": "stdout",
     "output_type": "stream",
     "text": [
      "(39209, 30, 30, 3) (39209,)\n"
     ]
    }
   ],
   "source": [
    "print(data.shape, labels.shape)"
   ]
  },
  {
   "cell_type": "code",
   "execution_count": 17,
   "id": "68e09d5a",
   "metadata": {},
   "outputs": [],
   "source": [
    "X_train, X_test, y_train, y_test = train_test_split(data, labels, test_size=0.2, random_state=0)"
   ]
  },
  {
   "cell_type": "code",
   "execution_count": 18,
   "id": "e3ac6c9d",
   "metadata": {},
   "outputs": [
    {
     "name": "stdout",
     "output_type": "stream",
     "text": [
      "(31367, 30, 30, 3) (7842, 30, 30, 3) (31367,) (7842,)\n"
     ]
    }
   ],
   "source": [
    "print(X_train.shape, X_test.shape, y_train.shape, y_test.shape)"
   ]
  },
  {
   "cell_type": "markdown",
   "id": "5f2a087d",
   "metadata": {},
   "source": [
    "# Convert labels to onehot encoding"
   ]
  },
  {
   "cell_type": "code",
   "execution_count": 19,
   "id": "38a388b8",
   "metadata": {},
   "outputs": [],
   "source": [
    "y_train = to_categorical(y_train, 43)\n",
    "y_test = to_categorical(y_test, 43)"
   ]
  },
  {
   "cell_type": "markdown",
   "id": "d4588fd6",
   "metadata": {},
   "source": [
    "# model building"
   ]
  },
  {
   "cell_type": "code",
   "execution_count": 20,
   "id": "8a014c1f",
   "metadata": {},
   "outputs": [
    {
     "name": "stdout",
     "output_type": "stream",
     "text": [
      "WARNING:tensorflow:From C:\\Users\\sindh\\anaconda3\\Lib\\site-packages\\keras\\src\\backend.py:873: The name tf.get_default_graph is deprecated. Please use tf.compat.v1.get_default_graph instead.\n",
      "\n",
      "WARNING:tensorflow:From C:\\Users\\sindh\\anaconda3\\Lib\\site-packages\\keras\\src\\layers\\normalization\\batch_normalization.py:979: The name tf.nn.fused_batch_norm is deprecated. Please use tf.compat.v1.nn.fused_batch_norm instead.\n",
      "\n"
     ]
    }
   ],
   "source": [
    "from keras.layers import BatchNormalization\n",
    "from keras import regularizers\n",
    "\n",
    "model = Sequential()\n",
    "model.add(Conv2D(filters=32, kernel_size=(5,5), activation='relu', input_shape=X_train.shape[1:]))\n",
    "model.add(BatchNormalization())\n",
    "model.add(Conv2D(filters=32, kernel_size=(5,5), activation='relu'))\n",
    "model.add(BatchNormalization())\n",
    "model.add(MaxPool2D(pool_size=(2, 2)))\n",
    "model.add(Dropout(rate=0.25))\n",
    "\n",
    "model.add(Conv2D(filters=64, kernel_size=(3, 3), activation='relu'))\n",
    "model.add(BatchNormalization())\n",
    "model.add(Conv2D(filters=64, kernel_size=(3, 3), activation='relu'))\n",
    "model.add(BatchNormalization())\n",
    "model.add(MaxPool2D(pool_size=(2, 2)))\n",
    "model.add(Dropout(rate=0.25))\n",
    "\n",
    "model.add(Flatten())\n",
    "model.add(Dense(256, activation='relu', kernel_regularizer=regularizers.l2(0.01)))\n",
    "model.add(BatchNormalization())\n",
    "model.add(Dropout(rate=0.5))\n",
    "# We have 43 classes that's why we have defined 43 in the dense\n",
    "model.add(Dense(43, activation='softmax'))"
   ]
  },
  {
   "cell_type": "code",
   "execution_count": 21,
   "id": "ba9f95d9",
   "metadata": {},
   "outputs": [
    {
     "name": "stdout",
     "output_type": "stream",
     "text": [
      "WARNING:tensorflow:From C:\\Users\\sindh\\anaconda3\\Lib\\site-packages\\keras\\src\\optimizers\\__init__.py:309: The name tf.train.Optimizer is deprecated. Please use tf.compat.v1.train.Optimizer instead.\n",
      "\n"
     ]
    }
   ],
   "source": [
    "#Compilation of the model\n",
    "model.compile(loss='categorical_crossentropy', optimizer='adam', metrics=['accuracy'])"
   ]
  },
  {
   "cell_type": "code",
   "execution_count": 22,
   "id": "39b8e297",
   "metadata": {},
   "outputs": [
    {
     "name": "stdout",
     "output_type": "stream",
     "text": [
      "Epoch 1/20\n",
      "WARNING:tensorflow:From C:\\Users\\sindh\\anaconda3\\Lib\\site-packages\\keras\\src\\utils\\tf_utils.py:492: The name tf.ragged.RaggedTensorValue is deprecated. Please use tf.compat.v1.ragged.RaggedTensorValue instead.\n",
      "\n",
      "WARNING:tensorflow:From C:\\Users\\sindh\\anaconda3\\Lib\\site-packages\\keras\\src\\engine\\base_layer_utils.py:384: The name tf.executing_eagerly_outside_functions is deprecated. Please use tf.compat.v1.executing_eagerly_outside_functions instead.\n",
      "\n",
      "981/981 [==============================] - 132s 129ms/step - loss: 2.3120 - accuracy: 0.7773 - val_loss: 0.5498 - val_accuracy: 0.9699\n",
      "Epoch 2/20\n",
      "981/981 [==============================] - 122s 124ms/step - loss: 0.4684 - accuracy: 0.9565 - val_loss: 0.3354 - val_accuracy: 0.9820\n",
      "Epoch 3/20\n",
      "981/981 [==============================] - 127s 130ms/step - loss: 0.4253 - accuracy: 0.9645 - val_loss: 0.3505 - val_accuracy: 0.9860\n",
      "Epoch 4/20\n",
      "981/981 [==============================] - 127s 129ms/step - loss: 0.3942 - accuracy: 0.9711 - val_loss: 0.3894 - val_accuracy: 0.9815\n",
      "Epoch 5/20\n",
      "981/981 [==============================] - 130s 133ms/step - loss: 0.3789 - accuracy: 0.9735 - val_loss: 0.3498 - val_accuracy: 0.9902\n",
      "Epoch 6/20\n",
      "981/981 [==============================] - 145s 148ms/step - loss: 0.3761 - accuracy: 0.9757 - val_loss: 0.3452 - val_accuracy: 0.9903\n",
      "Epoch 7/20\n",
      "981/981 [==============================] - 101s 103ms/step - loss: 0.3729 - accuracy: 0.9770 - val_loss: 0.3364 - val_accuracy: 0.9923\n",
      "Epoch 8/20\n",
      "981/981 [==============================] - 157s 160ms/step - loss: 0.3584 - accuracy: 0.9799 - val_loss: 0.3275 - val_accuracy: 0.9893\n",
      "Epoch 9/20\n",
      "981/981 [==============================] - 146s 148ms/step - loss: 0.3537 - accuracy: 0.9795 - val_loss: 0.3080 - val_accuracy: 0.9957\n",
      "Epoch 10/20\n",
      "981/981 [==============================] - 132s 135ms/step - loss: 0.3660 - accuracy: 0.9795 - val_loss: 0.3296 - val_accuracy: 0.9926\n",
      "Epoch 11/20\n",
      "981/981 [==============================] - 206s 210ms/step - loss: 0.3333 - accuracy: 0.9830 - val_loss: 0.2810 - val_accuracy: 0.9915\n",
      "Epoch 12/20\n",
      "981/981 [==============================] - 157s 161ms/step - loss: 0.3554 - accuracy: 0.9810 - val_loss: 0.3358 - val_accuracy: 0.9936\n",
      "Epoch 13/20\n",
      "981/981 [==============================] - 154s 157ms/step - loss: 0.3187 - accuracy: 0.9857 - val_loss: 0.2992 - val_accuracy: 0.9904\n",
      "Epoch 14/20\n",
      "981/981 [==============================] - 151s 154ms/step - loss: 0.3159 - accuracy: 0.9852 - val_loss: 0.2654 - val_accuracy: 0.9960\n",
      "Epoch 15/20\n",
      "981/981 [==============================] - 147s 149ms/step - loss: 0.3297 - accuracy: 0.9849 - val_loss: 0.2845 - val_accuracy: 0.9943\n",
      "Epoch 16/20\n",
      "981/981 [==============================] - 131s 134ms/step - loss: 0.3171 - accuracy: 0.9854 - val_loss: 0.3182 - val_accuracy: 0.9920\n",
      "Epoch 17/20\n",
      "981/981 [==============================] - 130s 132ms/step - loss: 0.3106 - accuracy: 0.9863 - val_loss: 0.3068 - val_accuracy: 0.9948\n",
      "Epoch 18/20\n",
      "981/981 [==============================] - 166s 169ms/step - loss: 0.3220 - accuracy: 0.9859 - val_loss: 0.3005 - val_accuracy: 0.9955\n",
      "Epoch 19/20\n",
      "981/981 [==============================] - 132s 135ms/step - loss: 0.3048 - accuracy: 0.9872 - val_loss: 0.2814 - val_accuracy: 0.9934\n",
      "Epoch 20/20\n",
      "981/981 [==============================] - 182s 186ms/step - loss: 0.3103 - accuracy: 0.9874 - val_loss: 0.2715 - val_accuracy: 0.9950\n"
     ]
    }
   ],
   "source": [
    "epochs = 20\n",
    "\n",
    "history = model.fit(X_train, y_train, batch_size=32, epochs=epochs, validation_data=(X_test, y_test))"
   ]
  },
  {
   "cell_type": "markdown",
   "id": "b1aee33f",
   "metadata": {},
   "source": [
    "# Accuracy Graph "
   ]
  },
  {
   "cell_type": "code",
   "execution_count": 23,
   "id": "dfed385e",
   "metadata": {},
   "outputs": [
    {
     "data": {
      "image/png": "[encoded data removed]",
      "text/plain": [
       "<Figure size 640x480 with 1 Axes>"
      ]
     },
     "metadata": {},
     "output_type": "display_data"
    }
   ],
   "source": [
    "\n",
    "plt.figure(0)\n",
    "plt.plot(history.history['accuracy'], label='training accuracy')\n",
    "plt.plot(history.history['val_accuracy'], label='val accuracy')\n",
    "plt.title('Accuracy')\n",
    "plt.xlabel('epochs')\n",
    "plt.ylabel('accuracy')\n",
    "plt.legend()\n",
    "plt.show()"
   ]
  },
  {
   "cell_type": "markdown",
   "id": "d9351e1c",
   "metadata": {},
   "source": [
    "# Loss Graph"
   ]
  },
  {
   "cell_type": "code",
   "execution_count": 24,
   "id": "3f65f203",
   "metadata": {},
   "outputs": [
    {
     "data": {
      "image/png": "[encoded data removed]",
      "text/plain": [
       "<Figure size 640x480 with 1 Axes>"
      ]
     },
     "metadata": {},
     "output_type": "display_data"
    }
   ],
   "source": [
    "\n",
    "plt.plot(history.history['loss'], label='training loss')\n",
    "plt.plot(history.history['val_loss'], label='val loss')\n",
    "plt.title('Loss')\n",
    "plt.xlabel('epochs')\n",
    "plt.ylabel('loss')\n",
    "plt.legend()\n",
    "plt.show()"
   ]
  },
  {
   "cell_type": "markdown",
   "id": "2a3fff62",
   "metadata": {},
   "source": [
    "#  Testing on Test data\n"
   ]
  },
  {
   "cell_type": "code",
   "execution_count": 25,
   "id": "bf6e6bc6",
   "metadata": {},
   "outputs": [],
   "source": [
    "def testing(testcsv):\n",
    "    y_test = pd.read_csv(testcsv)\n",
    "    label = y_test[\"ClassId\"].values\n",
    "    imgs = y_test[\"Path\"].values\n",
    "    data=[]\n",
    "    for img in imgs:\n",
    "        image = Image.open(img)\n",
    "        image = image.resize((30,30))\n",
    "        data.append(np.array(image))\n",
    "    X_test=np.array(data)\n",
    "    return X_test,label"
   ]
  },
  {
   "cell_type": "code",
   "execution_count": 26,
   "id": "c588304c",
   "metadata": {},
   "outputs": [],
   "source": [
    "X_test, label = testing('Test.csv')"
   ]
  },
  {
   "cell_type": "code",
   "execution_count": 27,
   "id": "512e71cc",
   "metadata": {},
   "outputs": [
    {
     "name": "stdout",
     "output_type": "stream",
     "text": [
      "395/395 [==============================] - 11s 27ms/step\n"
     ]
    },
    {
     "data": {
      "text/plain": [
       "array([16,  1, 38, ..., 32,  7, 10], dtype=int64)"
      ]
     },
     "execution_count": 27,
     "metadata": {},
     "output_type": "execute_result"
    }
   ],
   "source": [
    "Y_pred_probabilities = model.predict(X_test)\n",
    "Y_pred = Y_pred_probabilities.argmax(axis=-1)\n",
    "Y_pred"
   ]
  },
  {
   "cell_type": "markdown",
   "id": "8a93d908",
   "metadata": {},
   "source": [
    "# Accuracy with the test data\n"
   ]
  },
  {
   "cell_type": "code",
   "execution_count": 28,
   "id": "7fd42722",
   "metadata": {},
   "outputs": [
    {
     "name": "stdout",
     "output_type": "stream",
     "text": [
      "0.9661916072842439\n"
     ]
    }
   ],
   "source": [
    "from sklearn.metrics import accuracy_score\n",
    "print(accuracy_score(label, Y_pred))\n",
    "\n"
   ]
  },
  {
   "cell_type": "code",
   "execution_count": 29,
   "id": "f2fc7409",
   "metadata": {},
   "outputs": [
    {
     "name": "stderr",
     "output_type": "stream",
     "text": [
      "C:\\Users\\sindh\\anaconda3\\Lib\\site-packages\\keras\\src\\engine\\training.py:3103: UserWarning: You are saving your model as an HDF5 file via `model.save()`. This file format is considered legacy. We recommend using instead the native Keras format, e.g. `model.save('my_model.keras')`.\n",
      "  saving_api.save_model(\n"
     ]
    }
   ],
   "source": [
    "model.save(\"./training/TSR.h5\")"
   ]
  },
  {
   "cell_type": "markdown",
   "id": "44e59523",
   "metadata": {},
   "source": [
    "# Load the Model"
   ]
  },
  {
   "cell_type": "code",
   "execution_count": 30,
   "id": "1a3d0748",
   "metadata": {},
   "outputs": [],
   "source": [
    "import os\n",
    "os.chdir(r'C:/Users/sindh/archive')\n",
    "from keras.models import load_model\n",
    "model = load_model('./training/TSR.h5')"
   ]
  },
  {
   "cell_type": "code",
   "execution_count": 31,
   "id": "5933b082",
   "metadata": {},
   "outputs": [],
   "source": [
    "# Classes of trafic signs\n",
    "classes = { 0:'Speed limit (20km/h)',\n",
    "            1:'Speed limit (30km/h)', \n",
    "            2:'Speed limit (50km/h)', \n",
    "            3:'Speed limit (60km/h)', \n",
    "            4:'Speed limit (70km/h)', \n",
    "            5:'Speed limit (80km/h)', \n",
    "            6:'End of speed limit (80km/h)', \n",
    "            7:'Speed limit (100km/h)', \n",
    "            8:'Speed limit (120km/h)', \n",
    "            9:'No passing', \n",
    "            10:'No passing veh over 3.5 tons', \n",
    "            11:'Right-of-way at intersection', \n",
    "            12:'Priority road', \n",
    "            13:'Yield', \n",
    "            14:'Stop', \n",
    "            15:'No vehicles', \n",
    "            16:'Veh > 3.5 tons prohibited', \n",
    "            17:'No entry', \n",
    "            18:'General caution', \n",
    "            19:'Dangerous curve left', \n",
    "            20:'Dangerous curve right', \n",
    "            21:'Double curve', \n",
    "            22:'Bumpy road', \n",
    "            23:'Slippery road', \n",
    "            24:'Road narrows on the right', \n",
    "            25:'Road work', \n",
    "            26:'Traffic signals', \n",
    "            27:'Pedestrians', \n",
    "            28:'Children crossing', \n",
    "            29:'Bicycles crossing', \n",
    "            30:'Beware of ice/snow',\n",
    "            31:'Wild animals crossing', \n",
    "            32:'End speed + passing limits', \n",
    "            33:'Turn right ahead', \n",
    "            34:'Turn left ahead', \n",
    "            35:'Ahead only', \n",
    "            36:'Go straight or right', \n",
    "            37:'Go straight or left', \n",
    "            38:'Keep right', \n",
    "            39:'Keep left', \n",
    "            40:'Roundabout mandatory', \n",
    "            41:'End of no passing', \n",
    "            42:'End no passing veh > 3.5 tons' }\n",
    "#%%\n",
    "from PIL import Image\n",
    "import numpy as np\n",
    "import matplotlib.pyplot as plt\n",
    "def test_on_img(img):\n",
    "    data=[]\n",
    "    image = Image.open(img)\n",
    "    image = image.resize((30,30))\n",
    "    data.append(np.array(image))\n",
    "    X_test=np.array(data)\n",
    "    Y_pred_probabilities = model.predict(X_test)\n",
    "    Y_pred = Y_pred_probabilities.argmax(axis=-1)\n",
    "    Y_pred\n",
    "    return image,Y_pred"
   ]
  },
  {
   "cell_type": "markdown",
   "id": "5d902285",
   "metadata": {},
   "source": [
    "# Model Prediction"
   ]
  },
  {
   "cell_type": "code",
   "execution_count": 32,
   "id": "e9f24dce",
   "metadata": {},
   "outputs": [
    {
     "name": "stdout",
     "output_type": "stream",
     "text": [
      "1/1 [==============================] - 0s 310ms/step\n",
      "Predicted traffic sign is:  Turn left ahead\n"
     ]
    },
    {
     "data": {
      "image/png": "[encoded data removed]",
      "text/plain": [
       "<Figure size 640x480 with 1 Axes>"
      ]
     },
     "metadata": {},
     "output_type": "display_data"
    }
   ],
   "source": [
    "\n",
    "plot,prediction = test_on_img(r'C:\\Users\\sindh\\archive\\Test\\00032.png')\n",
    "s = [str(i) for i in prediction] \n",
    "a = int(\"\".join(s)) \n",
    "print(\"Predicted traffic sign is: \", classes[a])\n",
    "plt.imshow(plot)\n",
    "plt.show()\n"
   ]
  }
 ],
 "metadata": {
  "kernelspec": {
   "display_name": "Python 3 (ipykernel)",
   "language": "python",
   "name": "python3"
  },
  "language_info": {
   "codemirror_mode": {
    "name": "ipython",
    "version": 3
   },
   "file_extension": ".py",
   "mimetype": "text/x-python",
   "name": "python",
   "nbconvert_exporter": "python",
   "pygments_lexer": "ipython3",
   "version": "3.11.4"
  }
 },
 "nbformat": 4,
 "nbformat_minor": 5
}
